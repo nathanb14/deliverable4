{
  "nbformat": 4,
  "nbformat_minor": 0,
  "metadata": {
    "colab": {
      "provenance": []
    },
    "kernelspec": {
      "name": "python3",
      "display_name": "Python 3"
    },
    "language_info": {
      "name": "python"
    }
  },
  "cells": [
    {
      "cell_type": "code",
      "execution_count": 2,
      "metadata": {
        "id": "4E-C3GidSa7j"
      },
      "outputs": [],
      "source": [
        "import numpy as np\n",
        "import random"
      ]
    },
    {
      "cell_type": "code",
      "source": [
        "# Method 1 - Randomly populates a list with integers between 10 and 50\n",
        "def populate_list(length):\n",
        "    return [random.randint(10, 50) for i in range(length)]\n",
        "\n",
        "# Method 2 - Returns the summation of all the elements in a list\n",
        "def sum_list(numbers):\n",
        "    return sum(numbers)\n",
        "\n",
        "def main():\n",
        "    while True:\n",
        "        user_entry = input(\"Enter an integer number between 5 and 15: \")\n",
        "        try:\n",
        "            user_entry = int(user_entry)\n",
        "            if 5 <= user_entry <= 15:\n",
        "                break\n",
        "            else:\n",
        "                print(\"Invalid entry. Please try again.\")\n",
        "        except ValueError:\n",
        "            print(\"Invalid entry. Please try again.\")\n",
        "\n",
        "    # Method 3 - Randomly populates a list with a length equal to the user's entry\n",
        "    random_list = populate_list(user_entry)\n",
        "\n",
        "    print(\"Randomly populated list:\")\n",
        "    print(random_list)\n",
        "\n",
        "    # Method 4 - Sum all the elements in the list\n",
        "    sum_result = sum_list(random_list)\n",
        "\n",
        "    print(\"Sum of all elements in the list:\", sum_result)\n",
        "\n",
        "if __name__ == \"__main__\":\n",
        "    main()"
      ],
      "metadata": {
        "colab": {
          "base_uri": "https://localhost:8080/"
        },
        "id": "M3tcPOWCTTIR",
        "outputId": "be81b266-90b5-4e3b-b503-cfa0c258276f"
      },
      "execution_count": 8,
      "outputs": [
        {
          "output_type": "stream",
          "name": "stdout",
          "text": [
            "Enter an integer number between 5 and 15: 2\n",
            "Invalid entry. Please try again.\n",
            "Enter an integer number between 5 and 15: 9\n",
            "Randomly populated list:\n",
            "[33, 30, 32, 38, 43, 10, 20, 15, 22]\n",
            "Sum of all elements in the list: 243\n"
          ]
        }
      ]
    }
  ]
}